{
 "cells": [
  {
   "cell_type": "code",
   "execution_count": 1,
   "id": "6b444888",
   "metadata": {},
   "outputs": [],
   "source": [
    "import mysql.connector\n",
    "import pandas as pd"
   ]
  },
  {
   "cell_type": "code",
   "execution_count": 2,
   "id": "f2ebcb71",
   "metadata": {},
   "outputs": [],
   "source": [
    "# Connect to MySQL database\n",
    "connection = mysql.connector.connect(\n",
    "    host=\"ubctg.con7266gcvin.us-east-2.rds.amazonaws.com\",\n",
    "    user=\"admin\",\n",
    "    password=\"ubctgquant\",\n",
    "    database=\"ubctg\"\n",
    ")\n"
   ]
  },
  {
   "cell_type": "markdown",
   "id": "1610aed5",
   "metadata": {},
   "source": [
    "### Retrieve Dataset From the Database"
   ]
  },
  {
   "cell_type": "code",
   "execution_count": 3,
   "id": "1b86c3d5",
   "metadata": {},
   "outputs": [
    {
     "data": {
      "text/html": [
       "<div>\n",
       "<style scoped>\n",
       "    .dataframe tbody tr th:only-of-type {\n",
       "        vertical-align: middle;\n",
       "    }\n",
       "\n",
       "    .dataframe tbody tr th {\n",
       "        vertical-align: top;\n",
       "    }\n",
       "\n",
       "    .dataframe thead th {\n",
       "        text-align: right;\n",
       "    }\n",
       "</style>\n",
       "<table border=\"1\" class=\"dataframe\">\n",
       "  <thead>\n",
       "    <tr style=\"text-align: right;\">\n",
       "      <th></th>\n",
       "      <th>Date</th>\n",
       "      <th>Vix</th>\n",
       "    </tr>\n",
       "  </thead>\n",
       "  <tbody>\n",
       "    <tr>\n",
       "      <th>0</th>\n",
       "      <td>2000-01-03</td>\n",
       "      <td>24.21</td>\n",
       "    </tr>\n",
       "    <tr>\n",
       "      <th>1</th>\n",
       "      <td>2000-01-03</td>\n",
       "      <td>24.21</td>\n",
       "    </tr>\n",
       "    <tr>\n",
       "      <th>2</th>\n",
       "      <td>2000-01-04</td>\n",
       "      <td>27.01</td>\n",
       "    </tr>\n",
       "    <tr>\n",
       "      <th>3</th>\n",
       "      <td>2000-01-04</td>\n",
       "      <td>27.01</td>\n",
       "    </tr>\n",
       "    <tr>\n",
       "      <th>4</th>\n",
       "      <td>2000-01-05</td>\n",
       "      <td>26.41</td>\n",
       "    </tr>\n",
       "  </tbody>\n",
       "</table>\n",
       "</div>"
      ],
      "text/plain": [
       "         Date    Vix\n",
       "0  2000-01-03  24.21\n",
       "1  2000-01-03  24.21\n",
       "2  2000-01-04  27.01\n",
       "3  2000-01-04  27.01\n",
       "4  2000-01-05  26.41"
      ]
     },
     "execution_count": 3,
     "metadata": {},
     "output_type": "execute_result"
    }
   ],
   "source": [
    "# Create a cursor object to execute SQL queries\n",
    "cursor = connection.cursor()\n",
    "\n",
    "# SQL query to retrieve all data from the \"Volatility\" table\n",
    "sql_query = \"SELECT * FROM Volatility\"\n",
    "\n",
    "# Execute the SQL query\n",
    "cursor.execute(sql_query)\n",
    "\n",
    "# Fetch all rows from the result set\n",
    "volatility_data = cursor.fetchall()\n",
    "\n",
    "# Close the cursor and connection\n",
    "cursor.close()\n",
    "\n",
    "\n",
    "# Convert fetched data into a pandas DataFrame\n",
    "columns = [i[0] for i in cursor.description]  # Extract column names from cursor description\n",
    "volatility_df = pd.DataFrame(volatility_data, columns=columns)\n",
    "\n",
    "# Print the DataFrame\n",
    "volatility_df.head()\n"
   ]
  },
  {
   "cell_type": "markdown",
   "id": "4e333359",
   "metadata": {},
   "source": [
    "### Pulling Rows Between 2 Dates"
   ]
  },
  {
   "cell_type": "code",
   "execution_count": 10,
   "id": "9ea72716",
   "metadata": {},
   "outputs": [
    {
     "data": {
      "text/plain": [
       "(         Date    Vix\n",
       " 0  2020-01-02  12.47,\n",
       "            Date    Vix\n",
       " 271  2021-01-29  33.09)"
      ]
     },
     "execution_count": 10,
     "metadata": {},
     "output_type": "execute_result"
    }
   ],
   "source": [
    "# Create a cursor object to execute SQL queries\n",
    "cursor = connection.cursor()\n",
    "\n",
    "# Define the start and end dates\n",
    "start_date = '2020-01-01'\n",
    "end_date = '2021-01-31'\n",
    "\n",
    "# SQL query to retrieve data from the \"Volatility\" table between two dates\n",
    "sql_query = f\"SELECT * FROM Volatility WHERE Date BETWEEN '{start_date}' AND '{end_date}'\"\n",
    "\n",
    "# Execute the SQL query\n",
    "cursor.execute(sql_query)\n",
    "\n",
    "# Fetch all rows from the result set\n",
    "volatility_data = cursor.fetchall()\n",
    "\n",
    "cursor.close()\n",
    "\n",
    "\n",
    "# Convert fetched data into a pandas DataFrame\n",
    "columns = [i[0] for i in cursor.description]  # Extract column names from cursor description\n",
    "volatility_df = pd.DataFrame(volatility_data, columns=columns)\n",
    "\n",
    "# Print the DataFrame\n",
    "volatility_df.head(1), volatility_df.tail(1)"
   ]
  },
  {
   "cell_type": "markdown",
   "id": "4a7f6e71",
   "metadata": {},
   "source": [
    "### Getting the unique Identifiers For A Select Date"
   ]
  },
  {
   "cell_type": "code",
   "execution_count": 11,
   "id": "9ac3501c",
   "metadata": {},
   "outputs": [
    {
     "name": "stdout",
     "output_type": "stream",
     "text": [
      "      Permno\n",
      "0      10026\n",
      "1      10028\n",
      "2      10032\n",
      "3      10044\n",
      "4      10051\n",
      "...      ...\n",
      "7631   93426\n",
      "7632   93427\n",
      "7633   93429\n",
      "7634   93434\n",
      "7635   93436\n",
      "\n",
      "[7636 rows x 1 columns]\n"
     ]
    }
   ],
   "source": [
    "# Create a cursor object to execute SQL queries\n",
    "cursor_1 = connection.cursor()\n",
    "\n",
    "date_inQ = \"2020-01-02\"  # Replace with your desired date\n",
    "\n",
    "# SQL query to return unique values in \"PERMNO\" column where \"Date\" column is equal to date_inQ\n",
    "sql_query = f\"SELECT DISTINCT Permno FROM Returns WHERE Date = '{date_inQ}'\"\n",
    "\n",
    "# Execute the SQL query\n",
    "cursor_1.execute(sql_query)\n",
    "\n",
    "unique_permno = cursor_1.fetchall()\n",
    "\n",
    "\n",
    "# Convert fetched data into a pandas DataFrame\n",
    "columns = [i[0] for i in cursor_1.description]  # Extract column names from cursor description\n",
    "unique_permno_df = pd.DataFrame(unique_permno, columns=columns)\n",
    "\n",
    "cursor_1.close()\n",
    "\n",
    "# Print the DataFrame\n",
    "print(unique_permno_df)"
   ]
  },
  {
   "cell_type": "markdown",
   "id": "a4a8bd54",
   "metadata": {},
   "source": [
    "### Writing a New Table back to the Database"
   ]
  },
  {
   "cell_type": "code",
   "execution_count": 12,
   "id": "a7a70db5",
   "metadata": {},
   "outputs": [
    {
     "data": {
      "text/plain": [
       "True"
      ]
     },
     "execution_count": 12,
     "metadata": {},
     "output_type": "execute_result"
    }
   ],
   "source": [
    "cursor = connection.cursor()\n",
    "\n",
    "create_table_query = \"\"\"\n",
    "CREATE TABLE Glenn_Test (\n",
    "    Col_1 VARCHAR(255)\n",
    ")\n",
    "\"\"\"\n",
    "cursor.execute(create_table_query)\n",
    "\n",
    "# Insert a single row into Glenn_Test\n",
    "insert_query = \"\"\"\n",
    "INSERT INTO Glenn_Test (Col_1)\n",
    "VALUES ('Testing')\n",
    "\"\"\"\n",
    "\n",
    "    \n",
    "cursor.execute(insert_query)\n",
    "\n",
    "# Commit the transaction\n",
    "connection.commit()\n",
    "\n",
    "cursor.close()"
   ]
  },
  {
   "cell_type": "markdown",
   "id": "320a02db",
   "metadata": {},
   "source": [
    "### Now we are going to call the data we just created "
   ]
  },
  {
   "cell_type": "code",
   "execution_count": 13,
   "id": "b0e7ecc2",
   "metadata": {},
   "outputs": [
    {
     "name": "stdout",
     "output_type": "stream",
     "text": [
      "     Col_1\n",
      "0  Testing\n"
     ]
    }
   ],
   "source": [
    "cursor = connection.cursor()\n",
    "\n",
    "select_query = \"\"\"    SELECT * FROM Glenn_Test    \"\"\"\n",
    "\n",
    "cursor.execute(select_query)\n",
    "\n",
    "# Fetch all rows from the result set\n",
    "glenn_test_data = cursor.fetchall()\n",
    "\n",
    "# Convert fetched data into a pandas DataFrame\n",
    "columns = [i[0] for i in cursor.description]\n",
    "glenn_test_df = pd.DataFrame(glenn_test_data, columns=columns)\n",
    "\n",
    "cursor.close()\n",
    "\n",
    "# Print the DataFrame\n",
    "print(glenn_test_df)"
   ]
  },
  {
   "cell_type": "markdown",
   "id": "545c9fe0",
   "metadata": {},
   "source": [
    "### Lastly, we are going to delete the table we just created\n",
    "\n",
    "> if you run the cell twice and get an error, the table was successfully deleted\n",
    "\n",
    "> BE CAREFUL NOT TO DELETE IMPORTANT DATA"
   ]
  },
  {
   "cell_type": "code",
   "execution_count": 14,
   "id": "059bd793",
   "metadata": {},
   "outputs": [
    {
     "name": "stdout",
     "output_type": "stream",
     "text": [
      "Glenn_Test table deleted.\n"
     ]
    }
   ],
   "source": [
    "cursor = connection.cursor()\n",
    "\n",
    "# Delete the Glenn_Test table\n",
    "drop_table_query = \"\"\"\n",
    "DROP TABLE Glenn_Test\n",
    "\"\"\"\n",
    "cursor.execute(drop_table_query)\n",
    "\n",
    "# Commit the transaction\n",
    "connection.commit()\n",
    "\n",
    "cursor.close()\n",
    "\n",
    "print(\"Glenn_Test table deleted.\")"
   ]
  },
  {
   "cell_type": "code",
   "execution_count": null,
   "id": "436fe5c3",
   "metadata": {},
   "outputs": [],
   "source": []
  }
 ],
 "metadata": {
  "kernelspec": {
   "display_name": "Python 3 (ipykernel)",
   "language": "python",
   "name": "python3"
  },
  "language_info": {
   "codemirror_mode": {
    "name": "ipython",
    "version": 3
   },
   "file_extension": ".py",
   "mimetype": "text/x-python",
   "name": "python",
   "nbconvert_exporter": "python",
   "pygments_lexer": "ipython3",
   "version": "3.11.7"
  }
 },
 "nbformat": 4,
 "nbformat_minor": 5
}
