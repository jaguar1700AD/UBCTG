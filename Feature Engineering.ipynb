{
 "cells": [
  {
   "cell_type": "markdown",
   "id": "7b2cf69a-407b-422c-8a09-3d73061a760f",
   "metadata": {},
   "source": [
    "#### For a typical feature, would first apply log_normalize_and_standardize and then the wavelet_transform. "
   ]
  },
  {
   "cell_type": "code",
   "execution_count": 87,
   "id": "9c2e2331-43de-499d-810e-2ab3e4e9c493",
   "metadata": {},
   "outputs": [],
   "source": [
    "import numpy as np\n",
    "import pandas as pd\n",
    "import pywt"
   ]
  },
  {
   "cell_type": "code",
   "execution_count": 88,
   "id": "3770e2b6-37eb-453d-a0db-09fcd4320ebd",
   "metadata": {},
   "outputs": [],
   "source": [
    "def log_normalize_and_standardize(series):\n",
    "\n",
    "    # Step 1: Log normalize the data (add 1 to handle zero or negative values) (so that exponentially increasing features like returns are transformed to linear increasing)\n",
    "    log_normalized = np.log(series + 1)\n",
    "    \n",
    "    # Step 2: Standardize (Z-score normalization)\n",
    "    standardized = (log_normalized - log_normalized.mean()) / log_normalized.std()\n",
    "    \n",
    "    return standardized\n"
   ]
  },
  {
   "cell_type": "code",
   "execution_count": 89,
   "id": "e5b0fde6-d853-447a-b60a-1380d3a777c9",
   "metadata": {},
   "outputs": [],
   "source": [
    "def wavelet_transform(series, wavelet_type='db2', level=4):\n",
    "    \"\"\"\n",
    "    Computes the Discrete Wavelet Transform (DWT) of a time series using either db4 or Haar wavelet.\n",
    "\n",
    "    Parameters:\n",
    "    series: The time series data to be transformed.\n",
    "    wavelet_type (str): Type of wavelet to use ('db1'-'db10'). Defaults to 'db2'.\n",
    "    level (int): The level of decomposition. Defaults to 4.\n",
    "\n",
    "    Returns:\n",
    "    dict: A dictionary with approximation and detail coefficients for each level.\n",
    "    \"\"\"\n",
    "    # Validate wavelet type\n",
    "    if wavelet_type not in [f'db{i}' for i in range(10)]:\n",
    "        raise ValueError(\"wavelet_type must be 'db1'-'db10'\")\n",
    "\n",
    "    # Perform DWT\n",
    "    coeffs = pywt.wavedec(series, wavelet=wavelet_type, level=level, mode = 'constant')\n",
    "    \n",
    "    # Organize coefficients in a dictionary for easier interpretation\n",
    "    result = {\n",
    "        f'approximation_level_{level}': coeffs[0],  # Approximation coefficients at the coarsest level\n",
    "    }\n",
    "    for i in range(1, len(coeffs)):\n",
    "        result[f'detail_level_{i}'] = coeffs[level - i + 1]  # Detail coefficients for each level\n",
    "\n",
    "    # Length of return sequence = floor((data_len + filter_len - 1) / 2)\n",
    "    # filter_len = 2*i for dbi\n",
    "    \n",
    "    return result\n"
   ]
  },
  {
   "cell_type": "code",
   "execution_count": null,
   "id": "7d77f8df-c18c-4996-8687-7873babcf2f7",
   "metadata": {},
   "outputs": [],
   "source": []
  }
 ],
 "metadata": {
  "kernelspec": {
   "display_name": "Python 3 (ipykernel)",
   "language": "python",
   "name": "python3"
  },
  "language_info": {
   "codemirror_mode": {
    "name": "ipython",
    "version": 3
   },
   "file_extension": ".py",
   "mimetype": "text/x-python",
   "name": "python",
   "nbconvert_exporter": "python",
   "pygments_lexer": "ipython3",
   "version": "3.13.0"
  }
 },
 "nbformat": 4,
 "nbformat_minor": 5
}
